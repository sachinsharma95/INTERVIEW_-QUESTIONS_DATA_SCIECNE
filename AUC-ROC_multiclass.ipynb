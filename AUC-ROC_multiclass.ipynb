{
 "cells": [
  {
   "attachments": {},
   "cell_type": "markdown",
   "metadata": {},
   "source": [
    "For binary classification problems, it is common to use the AUC-ROC (Area Under the ROC Curve) as a metric to evaluate the performance of the model. However, when it comes to multiclass classification problems, there are several ways to calculate and plot the ROC curve. One common approach is to use the One-vs-All strategy."
   ]
  },
  {
   "attachments": {},
   "cell_type": "markdown",
   "metadata": {},
   "source": [
    "Here are the steps to plot the AUC-ROC curve for multiclass classification using the One-vs-All strategy in Python:"
   ]
  },
  {
   "attachments": {},
   "cell_type": "markdown",
   "metadata": {},
   "source": [
    "```\n",
    "from sklearn.metrics import roc_curve, auc\n",
    "from sklearn.preprocessing import label_binarize\n",
    "import matplotlib.pyplot as plt\n",
    "\n",
    "# laod the preprocess data\n",
    "\n",
    "X = ... # Features\n",
    "y = ... # Target variable\n",
    "n_classes = len(np.unique(y))\n",
    "y_binarized = label_binarize(y, classes=np.unique(y))\n",
    "\n",
    "\n",
    "# tarin test split \n",
    "\n",
    "from sklearn.model_selection import train_test_split\n",
    "X_train, X_test, y_train, y_test = train_test_split(X, y_binarized, test_size=0.2, random_state=42)\n",
    "\n",
    "\n",
    "# train the multi class classifier\n",
    "\n",
    "from sklearn.multiclass import OneVsRestClassifier\n",
    "from sklearn.svm import SVC\n",
    "classifier = OneVsRestClassifier(SVC(kernel='linear', probability=True, random_state=42))\n",
    "classifier.fit(X_train, y_train)\n",
    "\n",
    "\n",
    "#predic the probability \n",
    "\n",
    "y_score = classifier.predict_proba(X_test)\n",
    "\n",
    "#Compute the ROC curve and AUC for each class\n",
    "\n",
    "fpr = dict()\n",
    "tpr = dict()\n",
    "roc_auc = dict()\n",
    "for i in range(n_classes):\n",
    "    fpr[i], tpr[i], _ = roc_curve(y_test[:, i], y_score[:, i])\n",
    "    roc_auc[i] = auc(fpr[i], tpr[i])\n",
    "\n",
    "\n",
    "# Plot the ROC curves for each class\n",
    "\n",
    "plt.figure()\n",
    "lw = 2\n",
    "for i in range(n_classes):\n",
    "    plt.plot(fpr[i], tpr[i], lw=lw, label='ROC curve (area = %0.2f) for class %d' % (roc_auc[i], i))\n",
    "plt.plot([0, 1], [0, 1], color='navy', lw=lw, linestyle='--')\n",
    "plt.xlim([0.0, 1.0])\n",
    "plt.ylim([0.0, 1.05])\n",
    "plt.xlabel('False Positive Rate')\n",
    "plt.ylabel('True Positive Rate')\n",
    "plt.title('ROC curve for multiclass classification')\n",
    "plt.legend(loc=\"lower right\")\n",
    "plt.show()\n",
    "\n",
    "````\n",
    "This will plot the ROC curves for each class and display the AUC values in the legend. Note that in this approach, we plot multiple ROC curves, one for each class, instead of a single ROC curve as in the binary classification case.\n",
    "\n",
    "\n",
    "\n",
    "\n"
   ]
  },
  {
   "attachments": {},
   "cell_type": "markdown",
   "metadata": {},
   "source": []
  }
 ],
 "metadata": {
  "language_info": {
   "name": "python"
  },
  "orig_nbformat": 4
 },
 "nbformat": 4,
 "nbformat_minor": 2
}
